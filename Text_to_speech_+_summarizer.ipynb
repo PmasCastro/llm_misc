{
  "nbformat": 4,
  "nbformat_minor": 0,
  "metadata": {
    "colab": {
      "provenance": [],
      "gpuType": "T4",
      "include_colab_link": true
    },
    "kernelspec": {
      "name": "python3",
      "display_name": "Python 3"
    },
    "language_info": {
      "name": "python"
    },
    "accelerator": "GPU"
  },
  "cells": [
    {
      "cell_type": "markdown",
      "metadata": {
        "id": "view-in-github",
        "colab_type": "text"
      },
      "source": [
        "<a href=\"https://colab.research.google.com/github/PmasCastro/llm_misc/blob/main/Text_to_speech_%2B_summarizer.ipynb\" target=\"_parent\"><img src=\"https://colab.research.google.com/assets/colab-badge.svg\" alt=\"Open In Colab\"/></a>"
      ]
    },
    {
      "cell_type": "markdown",
      "source": [
        "# Create a transcript from an audio\n",
        "\n",
        "This is a simple app that  takes an uploaded audio file and converts it into text using OpenAI’s Whisper automatic speech recognition (ASR) model.\n",
        "\n"
      ],
      "metadata": {
        "id": "It89APiAtTUF"
      }
    },
    {
      "cell_type": "code",
      "source": [
        "!pip install -q requests torch bitsandbytes transformers sentencepiece gradio accelerate openai httpx==0.27.2"
      ],
      "metadata": {
        "id": "f2vvgnFpHpID"
      },
      "execution_count": null,
      "outputs": []
    },
    {
      "cell_type": "code",
      "execution_count": null,
      "metadata": {
        "id": "FW8nl3XRFrz0"
      },
      "outputs": [],
      "source": [
        "\n",
        "## imports\n",
        "\n",
        "import os\n",
        "import requests\n",
        "from IPython.display import Markdown, display, update_display\n",
        "from openai import OpenAI\n",
        "from google.colab import drive\n",
        "from huggingface_hub import login\n",
        "from google.colab import userdata\n",
        "from transformers import AutoTokenizer, AutoModelForCausalLM, TextStreamer, BitsAndBytesConfig\n",
        "import torch\n",
        "import gradio as gr"
      ]
    },
    {
      "cell_type": "code",
      "source": [
        "## Constants\n",
        "\n",
        "AUDIO_MODEL = \"whisper-1\"\n",
        "LLAMA = \"meta-llama/Meta-Llama-3.1-8B-Instruct\""
      ],
      "metadata": {
        "id": "q3D1_T0uG_Qh"
      },
      "execution_count": null,
      "outputs": []
    },
    {
      "cell_type": "code",
      "source": [
        "##Connect with Google Drive if needed\n",
        "\n",
        "#drive.mount(\"/content/drive\")\n",
        "#audio_filename = \"/content/drive/MyDrive/llms/[file]\""
      ],
      "metadata": {
        "id": "vxtnz-EsMHxc"
      },
      "execution_count": null,
      "outputs": []
    },
    {
      "cell_type": "code",
      "source": [
        "## Sign in to HuggingFace Hub\n",
        "\n",
        "hf_token = userdata.get('HF_TOKEN')\n",
        "login(hf_token, add_to_git_credential=True)"
      ],
      "metadata": {
        "id": "xYW8kQYtF-3L"
      },
      "execution_count": null,
      "outputs": []
    },
    {
      "cell_type": "code",
      "source": [
        "## Sign in to OpenAI using Secrets in Colab\n",
        "\n",
        "openai_api_key = userdata.get('OPENAI_API_KEY')\n",
        "openai = OpenAI(api_key=openai_api_key)"
      ],
      "metadata": {
        "id": "qP6OB2OeGC2C"
      },
      "execution_count": null,
      "outputs": []
    },
    {
      "cell_type": "code",
      "source": [
        "quant_config = BitsAndBytesConfig(\n",
        "    load_in_4bit=True,\n",
        "    bnb_4bit_use_double_quant=True,\n",
        "    bnb_4bit_compute_dtype=torch.bfloat16,\n",
        "    bnb_4bit_quant_type=\"nf4\"\n",
        ")\n",
        "\n",
        "tokenizer = AutoTokenizer.from_pretrained(LLAMA)\n",
        "tokenizer.pad_token = tokenizer.eos_token\n",
        "\n",
        "model = AutoModelForCausalLM.from_pretrained(\n",
        "    LLAMA,\n",
        "    device_map=\"auto\",\n",
        "    quantization_config=quant_config\n",
        ")"
      ],
      "metadata": {
        "id": "NRKbr4qsO-r4"
      },
      "execution_count": null,
      "outputs": []
    },
    {
      "cell_type": "code",
      "source": [
        "\n",
        "##This function generates a transcript from an uploaded audio file using OpenAI's model \"whisper-1\"\n",
        "##Integrated with a Gradio UI, in this case with use \"gr.File\" so that we can upload a file directly from our computer\n",
        "def generate_transcript(audio_file):\n",
        "    with open(audio_file, \"rb\") as f: #context manager\n",
        "        transcription = openai.audio.transcriptions.create(model=AUDIO_MODEL, file=f)\n",
        "        return transcription\n",
        "\n",
        "## Call the function and print the result\n",
        "#print(generate_transcript(audio_filename))"
      ],
      "metadata": {
        "id": "GMShdVGlGGr4",
        "collapsed": true
      },
      "execution_count": null,
      "outputs": []
    },
    {
      "cell_type": "code",
      "source": [
        "def generate_summary(transcription, model, tokenizer):\n",
        "\n",
        "  system_message = \"You are an assistant that produces summaries from transcripts.\"\n",
        "  user_prompt = f\"Below is an audio transcription, write me a summary with key points and main takeaways.\\n{transcription}\"\n",
        "\n",
        "  messages = [\n",
        "    {\"role\": \"system\", \"content\": system_message},\n",
        "    {\"role\": \"user\", \"content\": user_prompt}\n",
        "    ]\n",
        "  inputs = tokenizer.apply_chat_template(messages, return_tensors=\"pt\").to(\"cuda\")\n",
        "  outputs = model.generate(inputs, max_new_tokens=2000)\n",
        "  response = tokenizer.decode(outputs[0])\n",
        "\n",
        "  return response"
      ],
      "metadata": {
        "id": "piEMmcSfMH-O"
      },
      "execution_count": null,
      "outputs": []
    },
    {
      "cell_type": "code",
      "source": [
        "def process_audio_file(audio_file):\n",
        "    try:\n",
        "        print(\"Starting transcription...\")\n",
        "        transcription = generate_transcript(audio_file)\n",
        "        print(\"Transcription done.\")\n",
        "\n",
        "        print(\"Starting summary generation...\")\n",
        "        summary = generate_summary(transcription, model, tokenizer)\n",
        "        print(\"Summary generated.\")\n",
        "\n",
        "        return summary\n",
        "\n",
        "    except Exception as e:\n",
        "        print(\"Error during processing:\", str(e))\n",
        "        return f\"Error: {str(e)}\""
      ],
      "metadata": {
        "id": "SBr0PXsNQgi0"
      },
      "execution_count": null,
      "outputs": []
    },
    {
      "cell_type": "code",
      "source": [
        "gr.Interface(\n",
        "    fn=generate_transcript,\n",
        "    inputs=gr.File(type=\"filepath\", label=\"Upload Audio File\"), #with gr.File() we create a file component that allows uploading one or more generic files (when used as an input) or displaying generic files or URLs for download (as output).\n",
        "    outputs=gr.Textbox(label=\"Summary\"),\n",
        "    title=\"SummarizerBot\"\n",
        ").launch(inbrowser=True)"
      ],
      "metadata": {
        "id": "UcRKUgcxMew6"
      },
      "execution_count": null,
      "outputs": []
    },
    {
      "cell_type": "markdown",
      "source": [
        "## Free option\n"
      ],
      "metadata": {
        "id": "AU3uAEyU3a-o"
      }
    },
    {
      "cell_type": "code",
      "source": [
        "speech_model = AutoModelForSpeechSeq2Seq.from_pretrained(AUDIO_MODEL, torch_dtype=torch.float16, low_cpu_mem_usage=True, use_safetensors=True)\n",
        "speech_model.to('cuda')\n",
        "processor = AutoProcessor.from_pretrained(AUDIO_MODEL)\n",
        "\n",
        "pipe = pipeline(\n",
        "    \"automatic-speech-recognition\",\n",
        "    model=speech_model,\n",
        "    tokenizer=processor.tokenizer,\n",
        "    feature_extractor=processor.feature_extractor,\n",
        "    torch_dtype=torch.float16,\n",
        "    device='cuda',\n",
        ")"
      ],
      "metadata": {
        "id": "HdQnWEzW3lzP"
      },
      "execution_count": null,
      "outputs": []
    },
    {
      "cell_type": "code",
      "source": [
        "# Use the Whisper OpenAI model to convert the Audio to Text\n",
        "result = pipe(audio_filename)"
      ],
      "metadata": {
        "id": "nrQjKtD53omJ"
      },
      "execution_count": null,
      "outputs": []
    },
    {
      "cell_type": "code",
      "source": [
        "transcription = result[\"text\"]\n",
        "print(transcription)"
      ],
      "metadata": {
        "id": "G_XSljOY3tDf"
      },
      "execution_count": null,
      "outputs": []
    },
    {
      "cell_type": "markdown",
      "source": [
        "#Things to implement in the future:\n",
        "\n",
        "-implement the free version of speech to text;\n",
        "\n",
        "-clean the output to only display the actual summary;\n",
        "\n",
        "-maybe add a function that generates a pdf file with the summary\n"
      ],
      "metadata": {
        "id": "dH9T7TH9SxW_"
      }
    },
    {
      "cell_type": "code",
      "source": [],
      "metadata": {
        "id": "iTjDzSSESxE-"
      },
      "execution_count": null,
      "outputs": []
    }
  ]
}